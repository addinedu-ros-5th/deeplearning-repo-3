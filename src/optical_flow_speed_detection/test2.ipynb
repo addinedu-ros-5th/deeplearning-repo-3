{
 "cells": [
  {
   "cell_type": "code",
   "execution_count": 1,
   "metadata": {},
   "outputs": [
    {
     "name": "stderr",
     "output_type": "stream",
     "text": [
      "2024-06-07 16:20:10.700826: I tensorflow/core/platform/cpu_feature_guard.cc:210] This TensorFlow binary is optimized to use available CPU instructions in performance-critical operations.\n",
      "To enable the following instructions: AVX2 FMA, in other operations, rebuild TensorFlow with the appropriate compiler flags.\n",
      "2024-06-07 16:20:12.328458: W tensorflow/compiler/tf2tensorrt/utils/py_utils.cc:38] TF-TRT Warning: Could not find TensorRT\n"
     ]
    }
   ],
   "source": [
    "import tensorflow as tf\n",
    "from tensorflow.keras.models import Sequential\n",
    "from tensorflow.keras.layers import Conv2D, Flatten, Dense, Dropout, ELU, Lambda, Cropping2D, Reshape, BatchNormalization\n",
    "\n"
   ]
  },
  {
   "cell_type": "code",
   "execution_count": 2,
   "metadata": {},
   "outputs": [],
   "source": [
    "def CNNModel():\n",
    "    model = Sequential()\n",
    "    model.add(Conv2D(24, (5, 5), strides=(2, 2), input_shape=(240, 320, 3), kernel_initializer='he_normal', padding='valid'))\n",
    "    model.add(ELU())\n",
    "    model.add(Conv2D(36, (5, 5), strides=(2, 2), kernel_initializer='he_normal', padding='valid'))\n",
    "    model.add(ELU())\n",
    "    model.add(Conv2D(48, (5, 5), strides=(2, 2), kernel_initializer='he_normal', padding='valid'))\n",
    "    model.add(ELU())\n",
    "    model.add(Dropout(0.5))\n",
    "    model.add(Conv2D(64, (3, 3), strides=(1, 1), kernel_initializer='he_normal', padding='valid'))\n",
    "    model.add(ELU())\n",
    "    model.add(Conv2D(64, (3, 3), strides=(1, 1), kernel_initializer='he_normal', padding='valid'))\n",
    "    model.add(Flatten())\n",
    "    model.add(ELU())\n",
    "    model.add(Dense(100, kernel_initializer='he_normal'))\n",
    "    model.add(ELU())\n",
    "    model.add(Dense(50, kernel_initializer='he_normal'))\n",
    "    model.add(ELU())\n",
    "    model.add(Dense(10, kernel_initializer='he_normal'))\n",
    "    model.add(ELU())\n",
    "    model.add(Dense(1, kernel_initializer='he_normal'))\n",
    "\n",
    "    optimizer = tf.keras.optimizers.Adam(learning_rate=1e-4)\n",
    "    model.compile(optimizer=optimizer, loss='mse')\n",
    "\n",
    "    return model"
   ]
  },
  {
   "cell_type": "code",
   "execution_count": null,
   "metadata": {},
   "outputs": [],
   "source": []
  }
 ],
 "metadata": {
  "kernelspec": {
   "display_name": "test",
   "language": "python",
   "name": "python3"
  },
  "language_info": {
   "codemirror_mode": {
    "name": "ipython",
    "version": 3
   },
   "file_extension": ".py",
   "mimetype": "text/x-python",
   "name": "python",
   "nbconvert_exporter": "python",
   "pygments_lexer": "ipython3",
   "version": "3.10.12"
  }
 },
 "nbformat": 4,
 "nbformat_minor": 2
}
